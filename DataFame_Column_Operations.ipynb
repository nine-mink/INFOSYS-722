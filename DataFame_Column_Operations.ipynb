{
 "cells": [
  {
   "cell_type": "code",
   "execution_count": 2,
   "metadata": {
    "collapsed": true
   },
   "outputs": [
    {
     "data": {
      "text/plain": "<pyspark.sql.session.SparkSession at 0x1c9e2030070>",
      "text/html": "\n            <div>\n                <p><b>SparkSession - in-memory</b></p>\n                \n        <div>\n            <p><b>SparkContext</b></p>\n\n            <p><a href=\"http://172.23.11.235:4041\">Spark UI</a></p>\n\n            <dl>\n              <dt>Version</dt>\n                <dd><code>v3.5.0</code></dd>\n              <dt>Master</dt>\n                <dd><code>local[*]</code></dd>\n              <dt>AppName</dt>\n                <dd><code>002</code></dd>\n            </dl>\n        </div>\n        \n            </div>\n        "
     },
     "execution_count": 2,
     "metadata": {},
     "output_type": "execute_result"
    }
   ],
   "source": [
    "from pyspark.sql import SparkSession\n",
    "\n",
    "spark = SparkSession.builder.appName(\"002\").getOrCreate()\n",
    "spark.conf.set('spark.sql.repl.eagerEval.enabled', True)\n",
    "spark"
   ]
  },
  {
   "cell_type": "code",
   "execution_count": 8,
   "outputs": [
    {
     "data": {
      "text/plain": "+---+-----+----+----------+------------+---------+-----------+----------+---------+---------+---------+---------+---------+-----------+------------+----+------+----------+---------+------------+---------+----+-----+----+\n|_c0|Store|Dept|      Date|Weekly_Sales|IsHoliday|Temperature|Fuel_Price|MarkDown1|MarkDown2|MarkDown3|MarkDown4|MarkDown5|        CPI|Unemployment|Type|  Size|Super_Bowl|Labor_Day|Thanksgiving|Christmas|week|month|year|\n+---+-----+----+----------+------------+---------+-----------+----------+---------+---------+---------+---------+---------+-----------+------------+----+------+----------+---------+------------+---------+----+-----+----+\n|  0|    1|   1|2010-02-05|     24924.5|    false|      42.31|     2.572|      0.0|      0.0|      0.0|      0.0|      0.0|211.0963582|       8.106|   A|151315|     false|    false|       false|    false|   5|    2|2010|\n|  1|    1|   2|2010-02-05|    50605.27|    false|      42.31|     2.572|      0.0|      0.0|      0.0|      0.0|      0.0|211.0963582|       8.106|   A|151315|     false|    false|       false|    false|   5|    2|2010|\n|  2|    1|   3|2010-02-05|    13740.12|    false|      42.31|     2.572|      0.0|      0.0|      0.0|      0.0|      0.0|211.0963582|       8.106|   A|151315|     false|    false|       false|    false|   5|    2|2010|\n|  3|    1|   4|2010-02-05|    39954.04|    false|      42.31|     2.572|      0.0|      0.0|      0.0|      0.0|      0.0|211.0963582|       8.106|   A|151315|     false|    false|       false|    false|   5|    2|2010|\n|  4|    1|   5|2010-02-05|    32229.38|    false|      42.31|     2.572|      0.0|      0.0|      0.0|      0.0|      0.0|211.0963582|       8.106|   A|151315|     false|    false|       false|    false|   5|    2|2010|\n|  5|    1|   6|2010-02-05|     5749.03|    false|      42.31|     2.572|      0.0|      0.0|      0.0|      0.0|      0.0|211.0963582|       8.106|   A|151315|     false|    false|       false|    false|   5|    2|2010|\n|  6|    1|   7|2010-02-05|    21084.08|    false|      42.31|     2.572|      0.0|      0.0|      0.0|      0.0|      0.0|211.0963582|       8.106|   A|151315|     false|    false|       false|    false|   5|    2|2010|\n|  7|    1|   8|2010-02-05|    40129.01|    false|      42.31|     2.572|      0.0|      0.0|      0.0|      0.0|      0.0|211.0963582|       8.106|   A|151315|     false|    false|       false|    false|   5|    2|2010|\n|  8|    1|   9|2010-02-05|    16930.99|    false|      42.31|     2.572|      0.0|      0.0|      0.0|      0.0|      0.0|211.0963582|       8.106|   A|151315|     false|    false|       false|    false|   5|    2|2010|\n|  9|    1|  10|2010-02-05|     30721.5|    false|      42.31|     2.572|      0.0|      0.0|      0.0|      0.0|      0.0|211.0963582|       8.106|   A|151315|     false|    false|       false|    false|   5|    2|2010|\n| 10|    1|  11|2010-02-05|    24213.18|    false|      42.31|     2.572|      0.0|      0.0|      0.0|      0.0|      0.0|211.0963582|       8.106|   A|151315|     false|    false|       false|    false|   5|    2|2010|\n| 11|    1|  12|2010-02-05|     8449.54|    false|      42.31|     2.572|      0.0|      0.0|      0.0|      0.0|      0.0|211.0963582|       8.106|   A|151315|     false|    false|       false|    false|   5|    2|2010|\n| 12|    1|  13|2010-02-05|    41969.29|    false|      42.31|     2.572|      0.0|      0.0|      0.0|      0.0|      0.0|211.0963582|       8.106|   A|151315|     false|    false|       false|    false|   5|    2|2010|\n| 13|    1|  14|2010-02-05|    19466.91|    false|      42.31|     2.572|      0.0|      0.0|      0.0|      0.0|      0.0|211.0963582|       8.106|   A|151315|     false|    false|       false|    false|   5|    2|2010|\n| 14|    1|  16|2010-02-05|    10217.55|    false|      42.31|     2.572|      0.0|      0.0|      0.0|      0.0|      0.0|211.0963582|       8.106|   A|151315|     false|    false|       false|    false|   5|    2|2010|\n| 15|    1|  17|2010-02-05|    13223.76|    false|      42.31|     2.572|      0.0|      0.0|      0.0|      0.0|      0.0|211.0963582|       8.106|   A|151315|     false|    false|       false|    false|   5|    2|2010|\n| 16|    1|  18|2010-02-05|      4729.5|    false|      42.31|     2.572|      0.0|      0.0|      0.0|      0.0|      0.0|211.0963582|       8.106|   A|151315|     false|    false|       false|    false|   5|    2|2010|\n| 17|    1|  19|2010-02-05|     1947.05|    false|      42.31|     2.572|      0.0|      0.0|      0.0|      0.0|      0.0|211.0963582|       8.106|   A|151315|     false|    false|       false|    false|   5|    2|2010|\n| 18|    1|  20|2010-02-05|      5034.1|    false|      42.31|     2.572|      0.0|      0.0|      0.0|      0.0|      0.0|211.0963582|       8.106|   A|151315|     false|    false|       false|    false|   5|    2|2010|\n| 19|    1|  21|2010-02-05|     8907.63|    false|      42.31|     2.572|      0.0|      0.0|      0.0|      0.0|      0.0|211.0963582|       8.106|   A|151315|     false|    false|       false|    false|   5|    2|2010|\n+---+-----+----+----------+------------+---------+-----------+----------+---------+---------+---------+---------+---------+-----------+------------+----+------+----------+---------+------------+---------+----+-----+----+\nonly showing top 20 rows",
      "text/html": "<table border='1'>\n<tr><th>_c0</th><th>Store</th><th>Dept</th><th>Date</th><th>Weekly_Sales</th><th>IsHoliday</th><th>Temperature</th><th>Fuel_Price</th><th>MarkDown1</th><th>MarkDown2</th><th>MarkDown3</th><th>MarkDown4</th><th>MarkDown5</th><th>CPI</th><th>Unemployment</th><th>Type</th><th>Size</th><th>Super_Bowl</th><th>Labor_Day</th><th>Thanksgiving</th><th>Christmas</th><th>week</th><th>month</th><th>year</th></tr>\n<tr><td>0</td><td>1</td><td>1</td><td>2010-02-05</td><td>24924.5</td><td>false</td><td>42.31</td><td>2.572</td><td>0.0</td><td>0.0</td><td>0.0</td><td>0.0</td><td>0.0</td><td>211.0963582</td><td>8.106</td><td>A</td><td>151315</td><td>false</td><td>false</td><td>false</td><td>false</td><td>5</td><td>2</td><td>2010</td></tr>\n<tr><td>1</td><td>1</td><td>2</td><td>2010-02-05</td><td>50605.27</td><td>false</td><td>42.31</td><td>2.572</td><td>0.0</td><td>0.0</td><td>0.0</td><td>0.0</td><td>0.0</td><td>211.0963582</td><td>8.106</td><td>A</td><td>151315</td><td>false</td><td>false</td><td>false</td><td>false</td><td>5</td><td>2</td><td>2010</td></tr>\n<tr><td>2</td><td>1</td><td>3</td><td>2010-02-05</td><td>13740.12</td><td>false</td><td>42.31</td><td>2.572</td><td>0.0</td><td>0.0</td><td>0.0</td><td>0.0</td><td>0.0</td><td>211.0963582</td><td>8.106</td><td>A</td><td>151315</td><td>false</td><td>false</td><td>false</td><td>false</td><td>5</td><td>2</td><td>2010</td></tr>\n<tr><td>3</td><td>1</td><td>4</td><td>2010-02-05</td><td>39954.04</td><td>false</td><td>42.31</td><td>2.572</td><td>0.0</td><td>0.0</td><td>0.0</td><td>0.0</td><td>0.0</td><td>211.0963582</td><td>8.106</td><td>A</td><td>151315</td><td>false</td><td>false</td><td>false</td><td>false</td><td>5</td><td>2</td><td>2010</td></tr>\n<tr><td>4</td><td>1</td><td>5</td><td>2010-02-05</td><td>32229.38</td><td>false</td><td>42.31</td><td>2.572</td><td>0.0</td><td>0.0</td><td>0.0</td><td>0.0</td><td>0.0</td><td>211.0963582</td><td>8.106</td><td>A</td><td>151315</td><td>false</td><td>false</td><td>false</td><td>false</td><td>5</td><td>2</td><td>2010</td></tr>\n<tr><td>5</td><td>1</td><td>6</td><td>2010-02-05</td><td>5749.03</td><td>false</td><td>42.31</td><td>2.572</td><td>0.0</td><td>0.0</td><td>0.0</td><td>0.0</td><td>0.0</td><td>211.0963582</td><td>8.106</td><td>A</td><td>151315</td><td>false</td><td>false</td><td>false</td><td>false</td><td>5</td><td>2</td><td>2010</td></tr>\n<tr><td>6</td><td>1</td><td>7</td><td>2010-02-05</td><td>21084.08</td><td>false</td><td>42.31</td><td>2.572</td><td>0.0</td><td>0.0</td><td>0.0</td><td>0.0</td><td>0.0</td><td>211.0963582</td><td>8.106</td><td>A</td><td>151315</td><td>false</td><td>false</td><td>false</td><td>false</td><td>5</td><td>2</td><td>2010</td></tr>\n<tr><td>7</td><td>1</td><td>8</td><td>2010-02-05</td><td>40129.01</td><td>false</td><td>42.31</td><td>2.572</td><td>0.0</td><td>0.0</td><td>0.0</td><td>0.0</td><td>0.0</td><td>211.0963582</td><td>8.106</td><td>A</td><td>151315</td><td>false</td><td>false</td><td>false</td><td>false</td><td>5</td><td>2</td><td>2010</td></tr>\n<tr><td>8</td><td>1</td><td>9</td><td>2010-02-05</td><td>16930.99</td><td>false</td><td>42.31</td><td>2.572</td><td>0.0</td><td>0.0</td><td>0.0</td><td>0.0</td><td>0.0</td><td>211.0963582</td><td>8.106</td><td>A</td><td>151315</td><td>false</td><td>false</td><td>false</td><td>false</td><td>5</td><td>2</td><td>2010</td></tr>\n<tr><td>9</td><td>1</td><td>10</td><td>2010-02-05</td><td>30721.5</td><td>false</td><td>42.31</td><td>2.572</td><td>0.0</td><td>0.0</td><td>0.0</td><td>0.0</td><td>0.0</td><td>211.0963582</td><td>8.106</td><td>A</td><td>151315</td><td>false</td><td>false</td><td>false</td><td>false</td><td>5</td><td>2</td><td>2010</td></tr>\n<tr><td>10</td><td>1</td><td>11</td><td>2010-02-05</td><td>24213.18</td><td>false</td><td>42.31</td><td>2.572</td><td>0.0</td><td>0.0</td><td>0.0</td><td>0.0</td><td>0.0</td><td>211.0963582</td><td>8.106</td><td>A</td><td>151315</td><td>false</td><td>false</td><td>false</td><td>false</td><td>5</td><td>2</td><td>2010</td></tr>\n<tr><td>11</td><td>1</td><td>12</td><td>2010-02-05</td><td>8449.54</td><td>false</td><td>42.31</td><td>2.572</td><td>0.0</td><td>0.0</td><td>0.0</td><td>0.0</td><td>0.0</td><td>211.0963582</td><td>8.106</td><td>A</td><td>151315</td><td>false</td><td>false</td><td>false</td><td>false</td><td>5</td><td>2</td><td>2010</td></tr>\n<tr><td>12</td><td>1</td><td>13</td><td>2010-02-05</td><td>41969.29</td><td>false</td><td>42.31</td><td>2.572</td><td>0.0</td><td>0.0</td><td>0.0</td><td>0.0</td><td>0.0</td><td>211.0963582</td><td>8.106</td><td>A</td><td>151315</td><td>false</td><td>false</td><td>false</td><td>false</td><td>5</td><td>2</td><td>2010</td></tr>\n<tr><td>13</td><td>1</td><td>14</td><td>2010-02-05</td><td>19466.91</td><td>false</td><td>42.31</td><td>2.572</td><td>0.0</td><td>0.0</td><td>0.0</td><td>0.0</td><td>0.0</td><td>211.0963582</td><td>8.106</td><td>A</td><td>151315</td><td>false</td><td>false</td><td>false</td><td>false</td><td>5</td><td>2</td><td>2010</td></tr>\n<tr><td>14</td><td>1</td><td>16</td><td>2010-02-05</td><td>10217.55</td><td>false</td><td>42.31</td><td>2.572</td><td>0.0</td><td>0.0</td><td>0.0</td><td>0.0</td><td>0.0</td><td>211.0963582</td><td>8.106</td><td>A</td><td>151315</td><td>false</td><td>false</td><td>false</td><td>false</td><td>5</td><td>2</td><td>2010</td></tr>\n<tr><td>15</td><td>1</td><td>17</td><td>2010-02-05</td><td>13223.76</td><td>false</td><td>42.31</td><td>2.572</td><td>0.0</td><td>0.0</td><td>0.0</td><td>0.0</td><td>0.0</td><td>211.0963582</td><td>8.106</td><td>A</td><td>151315</td><td>false</td><td>false</td><td>false</td><td>false</td><td>5</td><td>2</td><td>2010</td></tr>\n<tr><td>16</td><td>1</td><td>18</td><td>2010-02-05</td><td>4729.5</td><td>false</td><td>42.31</td><td>2.572</td><td>0.0</td><td>0.0</td><td>0.0</td><td>0.0</td><td>0.0</td><td>211.0963582</td><td>8.106</td><td>A</td><td>151315</td><td>false</td><td>false</td><td>false</td><td>false</td><td>5</td><td>2</td><td>2010</td></tr>\n<tr><td>17</td><td>1</td><td>19</td><td>2010-02-05</td><td>1947.05</td><td>false</td><td>42.31</td><td>2.572</td><td>0.0</td><td>0.0</td><td>0.0</td><td>0.0</td><td>0.0</td><td>211.0963582</td><td>8.106</td><td>A</td><td>151315</td><td>false</td><td>false</td><td>false</td><td>false</td><td>5</td><td>2</td><td>2010</td></tr>\n<tr><td>18</td><td>1</td><td>20</td><td>2010-02-05</td><td>5034.1</td><td>false</td><td>42.31</td><td>2.572</td><td>0.0</td><td>0.0</td><td>0.0</td><td>0.0</td><td>0.0</td><td>211.0963582</td><td>8.106</td><td>A</td><td>151315</td><td>false</td><td>false</td><td>false</td><td>false</td><td>5</td><td>2</td><td>2010</td></tr>\n<tr><td>19</td><td>1</td><td>21</td><td>2010-02-05</td><td>8907.63</td><td>false</td><td>42.31</td><td>2.572</td><td>0.0</td><td>0.0</td><td>0.0</td><td>0.0</td><td>0.0</td><td>211.0963582</td><td>8.106</td><td>A</td><td>151315</td><td>false</td><td>false</td><td>false</td><td>false</td><td>5</td><td>2</td><td>2010</td></tr>\n</table>\nonly showing top 20 rows\n"
     },
     "execution_count": 8,
     "metadata": {},
     "output_type": "execute_result"
    }
   ],
   "source": [
    "# df = spark.read.option(\"header\", \"true\").csv('clean_data.csv')\n",
    "df = spark.read.csv('clean_data.csv', header=True, inferSchema=True)\n",
    "df"
   ],
   "metadata": {
    "collapsed": false
   }
  },
  {
   "cell_type": "code",
   "execution_count": 6,
   "outputs": [
    {
     "name": "stdout",
     "output_type": "stream",
     "text": [
      "+------------+-----------+\n",
      "|Weekly_Sales|Temperature|\n",
      "+------------+-----------+\n",
      "|     24924.5|      42.31|\n",
      "|    50605.27|      42.31|\n",
      "|    13740.12|      42.31|\n",
      "|    39954.04|      42.31|\n",
      "|    32229.38|      42.31|\n",
      "|     5749.03|      42.31|\n",
      "|    21084.08|      42.31|\n",
      "|    40129.01|      42.31|\n",
      "|    16930.99|      42.31|\n",
      "|     30721.5|      42.31|\n",
      "|    24213.18|      42.31|\n",
      "|     8449.54|      42.31|\n",
      "|    41969.29|      42.31|\n",
      "|    19466.91|      42.31|\n",
      "|    10217.55|      42.31|\n",
      "|    13223.76|      42.31|\n",
      "|      4729.5|      42.31|\n",
      "|     1947.05|      42.31|\n",
      "|      5034.1|      42.31|\n",
      "|     8907.63|      42.31|\n",
      "+------------+-----------+\n",
      "only showing top 20 rows\n",
      "\n"
     ]
    }
   ],
   "source": [
    "df.select(\"Weekly_Sales\", \"Temperature\").show()"
   ],
   "metadata": {
    "collapsed": false
   }
  },
  {
   "cell_type": "code",
   "execution_count": 7,
   "outputs": [
    {
     "name": "stdout",
     "output_type": "stream",
     "text": [
      "+------------+-----------+\n",
      "|Weekly_Sales|Temperature|\n",
      "+------------+-----------+\n",
      "|     24924.5|      42.31|\n",
      "|    50605.27|      42.31|\n",
      "|    13740.12|      42.31|\n",
      "|    39954.04|      42.31|\n",
      "|    32229.38|      42.31|\n",
      "|     5749.03|      42.31|\n",
      "|    21084.08|      42.31|\n",
      "|    40129.01|      42.31|\n",
      "|    16930.99|      42.31|\n",
      "|     30721.5|      42.31|\n",
      "|    24213.18|      42.31|\n",
      "|     8449.54|      42.31|\n",
      "|    41969.29|      42.31|\n",
      "|    19466.91|      42.31|\n",
      "|    10217.55|      42.31|\n",
      "|    13223.76|      42.31|\n",
      "|      4729.5|      42.31|\n",
      "|     1947.05|      42.31|\n",
      "|      5034.1|      42.31|\n",
      "|     8907.63|      42.31|\n",
      "+------------+-----------+\n",
      "only showing top 20 rows\n",
      "\n"
     ]
    }
   ],
   "source": [
    "df.select(df.Weekly_Sales, df.Temperature).show()"
   ],
   "metadata": {
    "collapsed": false
   }
  },
  {
   "cell_type": "code",
   "execution_count": null,
   "outputs": [],
   "source": [],
   "metadata": {
    "collapsed": false
   }
  }
 ],
 "metadata": {
  "kernelspec": {
   "display_name": "Python 3",
   "language": "python",
   "name": "python3"
  },
  "language_info": {
   "codemirror_mode": {
    "name": "ipython",
    "version": 2
   },
   "file_extension": ".py",
   "mimetype": "text/x-python",
   "name": "python",
   "nbconvert_exporter": "python",
   "pygments_lexer": "ipython2",
   "version": "2.7.6"
  }
 },
 "nbformat": 4,
 "nbformat_minor": 0
}
